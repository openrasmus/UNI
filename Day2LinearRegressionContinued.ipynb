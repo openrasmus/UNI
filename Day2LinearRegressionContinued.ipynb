{
  "nbformat": 4,
  "nbformat_minor": 0,
  "metadata": {
    "colab": {
      "name": "Day2LinearRegressionContinued.ipynb",
      "provenance": [],
      "collapsed_sections": []
    },
    "kernelspec": {
      "name": "python3",
      "display_name": "Python 3"
    }
  },
  "cells": [
    {
      "cell_type": "markdown",
      "metadata": {
        "id": "s8BkYL6JcM5M"
      },
      "source": [
        "#Day 2 of project\r\n",
        "\r\n",
        "**Goal**: Make my own implementation behave like sklearns linear_regression! To do this: \r\n",
        "\r\n",
        "1.   Make a LinearRegression class\r\n",
        "2.   Make the methods that sklearn has: fit,predict, score\r\n",
        "3.   Implement new attribute: design matrix. That returns the design matrix used in the linear regresion. \r\n",
        "\r\n",
        "**Metric**: Should be useable the same way as sklearn's implenetation.\r\n"
      ]
    },
    {
      "cell_type": "code",
      "metadata": {
        "id": "SowZ3NDJVkjp"
      },
      "source": [
        "import numpy as np\r\n",
        "from sklearn.datasets import load_boston\r\n",
        "#Load data\r\n",
        "predictors, response = load_boston(return_X_y=True)\r\n",
        "index = int(len(predictors)*0.8)\r\n",
        "\r\n",
        "#Split data 80/20 into train/test  \r\n",
        "x_train = predictors[:index]\r\n",
        "y_train = response[:index]\r\n",
        "\r\n",
        "x_test = predictors[index:]\r\n",
        "y_test = response[index:]"
      ],
      "execution_count": 229,
      "outputs": []
    },
    {
      "cell_type": "code",
      "metadata": {
        "id": "MCZw_o6kXwA0"
      },
      "source": [
        "#Helper functions from day 1.\r\n",
        "def find_coef(x,y):\r\n",
        "  _,m = np.shape(x)\r\n",
        "  inverse = np.linalg.solve((x.T@x),np.identity(m))\r\n",
        "  coef = inverse@x.T@y\r\n",
        "  return(coef)\r\n",
        "\r\n",
        "def create_design_matrix_lm(numpy_array):\r\n",
        "  n,_ = np.shape(numpy_array)\r\n",
        "  column_of_ones = np.ones([n,1])\r\n",
        "  design_matrix = np.c_[column_of_ones ,numpy_array]\r\n",
        "  return(design_matrix)\r\n",
        "\r\n",
        "def predict(x,B):\r\n",
        "  X = create_design_matrix_lm(x)\r\n",
        "  return(np.dot(X,B))\r\n",
        "\r\n",
        "def rss(y,y_pred):\r\n",
        "  yhat = np.sum(y)/len(y)\r\n",
        "  SStot = 0\r\n",
        "  SSres = 0\r\n",
        "  for i in range(len(y)):\r\n",
        "    SSres += (y[i]-y_pred[i])**2\r\n",
        "    SStot += (y[i]-yhat)**2\r\n",
        "  return(1-(SSres/SStot))"
      ],
      "execution_count": 233,
      "outputs": []
    },
    {
      "cell_type": "code",
      "metadata": {
        "id": "ZW0ZziFbIeNc"
      },
      "source": [
        "class LinearRegression:\r\n",
        "  \"Ordinary least squares linear regression.\"\r\n",
        "  def __init__(self):\r\n",
        "    self.model = \"LinearRegression\"\r\n",
        "    \r\n",
        "  def fit(self, x_train, y_train, fit_intercept=True): \r\n",
        "    \"fit_intercept: whether to caluclate the bias term.\"\r\n",
        "    \r\n",
        "    \"\"\"Attributes: \r\n",
        "        x_train,y_train - data to fit the linear regression\r\n",
        "        design - design matrix of the regression\r\n",
        "        coef - estimated beta's\r\n",
        "        intercept - bias term\r\n",
        "        beta - all estimated betas \r\n",
        "    \"\"\"\r\n",
        "    self.x_train = x_train\r\n",
        "    self.y_train = y_train  \r\n",
        "\r\n",
        "    if fit_intercept:\r\n",
        "      self.design = create_design_matrix_lm(self.x_train)\r\n",
        "      coef = find_coef(self.design,self.y_train)\r\n",
        "      #c = np.diag(inverse)\r\n",
        "      #std_ = SSE(self.design,y_test,len(self.design)-1)\r\n",
        "      #self.std  = c*np.sqrt(std_)\r\n",
        "      self.coef_ = coef[1:]\r\n",
        "      self.intercept_  = coef[0]\r\n",
        "      self.beta = np.append(self.intercept_,self.coef_)\r\n",
        "    \r\n",
        "    else:\r\n",
        "      self.design = self.x_train\r\n",
        "      self.coef_ = find_coef(self.design,self.y_train)\r\n",
        "      self.intercept_  = 0\r\n",
        "      self.beta = np.append(self.intercept_,self.coef_)\r\n",
        "\r\n",
        "  def predict(self,x_test):\r\n",
        "    return(predict(x_test,self.beta))\r\n",
        "  \r\n",
        "  def score(self, x_test,y_test):\r\n",
        "    y_pred = self.predict(x_test)\r\n",
        "    return(rss(y_test,y_pred))\r\n"
      ],
      "execution_count": 241,
      "outputs": []
    },
    {
      "cell_type": "code",
      "metadata": {
        "colab": {
          "base_uri": "https://localhost:8080/"
        },
        "id": "MPGksbqVd8Hm",
        "outputId": "61cc9dc3-1a0e-4ebe-8072-c2ccdc960793"
      },
      "source": [
        "model = LinearRegression()\r\n",
        "model.fit(x_train,y_train,fit_intercept=False)\r\n",
        "beta = model.beta\r\n",
        "y_pred = model.predict(x_test)\r\n",
        "intercept_test = model.intercept_\r\n",
        "coef_test = model.coef_\r\n",
        "r_sq_test = model.score(x_test,y_test)\r\n",
        "\r\n",
        "print(\"Results from my model\")\r\n",
        "print(\"The first 4 Coefficients:\", np.round(coef_test[:4],2))\r\n",
        "print(\"The intecept is:\",np.round(intercept_test,2))\r\n",
        "print(\"The first 4 predictions are:\" ,np.round(model.predict(x_test)[:4],2))\r\n",
        "print(\"The R squared score is:\" , np.round(r_sq_test,3))"
      ],
      "execution_count": 242,
      "outputs": [
        {
          "output_type": "stream",
          "text": [
            "Results from my model\n",
            "The first 4 Coefficients: [-0.22  0.05  0.03  1.92]\n",
            "The intecept is: 0\n",
            "The first 4 predictions are: [ 5.04  2.95  3.65 19.37]\n",
            "The R squared score is: -0.169\n"
          ],
          "name": "stdout"
        }
      ]
    },
    {
      "cell_type": "code",
      "metadata": {
        "colab": {
          "base_uri": "https://localhost:8080/"
        },
        "id": "vWQrN0pNnfBj",
        "outputId": "b3e8e79d-55d8-4052-e84d-e5817072643b"
      },
      "source": [
        "from sklearn.linear_model import LinearRegression\r\n",
        "model = LinearRegression(fit_intercept=False).fit(x_train, y_train)\r\n",
        "\r\n",
        "y_pred = model.predict(x_test)\r\n",
        "intercept_test = model.intercept_\r\n",
        "coef_test = model.coef_\r\n",
        "r_sq_test = model.score(x_test,y_test)\r\n",
        "\r\n",
        "print(\"Results from sklearn's model\")\r\n",
        "print(\"The first 4 Coefficients:\", np.round(coef_test[:4],2))\r\n",
        "print(\"The intecept is:\",np.round(intercept_test,2))\r\n",
        "print(\"The first 4 predictions are:\" ,np.round(model.predict(test_x)[:4],2))\r\n",
        "print(\"The R squared score is:\" , np.round(r_sq_test,3))"
      ],
      "execution_count": 244,
      "outputs": [
        {
          "output_type": "stream",
          "text": [
            "Results from sklearn's model\n",
            "The first 4 Coefficients: [-0.22  0.05  0.03  1.92]\n",
            "The intecept is: 0.0\n",
            "The first 4 predictions are: [ 5.04  2.95  3.65 19.37]\n",
            "The R squared score is: -0.169\n"
          ],
          "name": "stdout"
        }
      ]
    },
    {
      "cell_type": "markdown",
      "metadata": {
        "id": "vTndBn9jqbih"
      },
      "source": [
        "#Results:\r\n",
        "Implemented OLS regression. Next step is likely to implement some tools to analyse the results!"
      ]
    }
  ]
}